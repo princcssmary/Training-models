{
 "cells": [
  {
   "cell_type": "code",
   "execution_count": 118,
   "id": "c711898f",
   "metadata": {
    "scrolled": true
   },
   "outputs": [],
   "source": [
    "import pandas as pd\n",
    "from sklearn.model_selection import train_test_split\n",
    "from sklearn.linear_model import LogisticRegression\n",
    "from sklearn.tree import DecisionTreeClassifier\n",
    "from sklearn import metrics\n",
    "from sklearn.ensemble import RandomForestClassifier\n",
    "from sklearn.dummy import DummyClassifier"
   ]
  },
  {
   "cell_type": "code",
   "execution_count": 128,
   "id": "f65ddb00",
   "metadata": {
    "scrolled": true
   },
   "outputs": [],
   "source": [
    "df = pd.read_csv('users_behavior.csv', sep=',')"
   ]
  },
  {
   "cell_type": "code",
   "execution_count": 129,
   "id": "c4cf11d8",
   "metadata": {},
   "outputs": [],
   "source": [
    "features = df.drop(['is_ultra', 'calls'], axis=1)\n",
    "target = df['is_ultra']"
   ]
  },
  {
   "cell_type": "code",
   "execution_count": 130,
   "id": "94ce9573",
   "metadata": {},
   "outputs": [],
   "source": [
    "features_train, features_valid, target_train, target_valid = train_test_split(features, target, test_size=0.25, \n",
    "                                                                              random_state=12345)"
   ]
  },
  {
   "cell_type": "code",
   "execution_count": 131,
   "id": "bdcca31b",
   "metadata": {},
   "outputs": [],
   "source": [
    "clf = DecisionTreeClassifier(max_depth=3, random_state=12345)\n",
    "clf = clf.fit(features_train,target_train)\n",
    "target_pred = clf.predict(features_valid)"
   ]
  },
  {
   "cell_type": "code",
   "execution_count": 132,
   "id": "694c9fbd",
   "metadata": {
    "scrolled": true
   },
   "outputs": [
    {
     "name": "stdout",
     "output_type": "stream",
     "text": [
      "Accuracy: 0.7885572139303483\n"
     ]
    }
   ],
   "source": [
    "print(\"Accuracy:\",metrics.accuracy_score(target_valid, target_pred))"
   ]
  },
  {
   "cell_type": "code",
   "execution_count": 133,
   "id": "89e00215",
   "metadata": {
    "scrolled": true
   },
   "outputs": [],
   "source": [
    "clf1=RandomForestClassifier(n_estimators=100, random_state=12345, max_depth=11)\n",
    "clf1.fit(features_train,target_train)\n",
    "y_pred=clf1.predict(features_valid)"
   ]
  },
  {
   "cell_type": "code",
   "execution_count": 134,
   "id": "472f97c4",
   "metadata": {},
   "outputs": [
    {
     "name": "stdout",
     "output_type": "stream",
     "text": [
      "Accuracy: 0.8072139303482587\n"
     ]
    }
   ],
   "source": [
    "print(\"Accuracy:\",metrics.accuracy_score(target_valid, y_pred))"
   ]
  },
  {
   "cell_type": "code",
   "execution_count": 135,
   "id": "1ba3edc3",
   "metadata": {},
   "outputs": [],
   "source": [
    "logisticRegr = LogisticRegression(random_state=12345)"
   ]
  },
  {
   "cell_type": "code",
   "execution_count": 136,
   "id": "db89a456",
   "metadata": {},
   "outputs": [],
   "source": [
    "clf2 = logisticRegr.fit(features_train,target_train)"
   ]
  },
  {
   "cell_type": "code",
   "execution_count": 137,
   "id": "187fdd6c",
   "metadata": {},
   "outputs": [],
   "source": [
    "w_pred=clf2.predict(features_valid)"
   ]
  },
  {
   "cell_type": "code",
   "execution_count": 138,
   "id": "d0dd1bb3",
   "metadata": {},
   "outputs": [
    {
     "name": "stdout",
     "output_type": "stream",
     "text": [
      "Accuracy: 0.7039800995024875\n"
     ]
    }
   ],
   "source": [
    "print(\"Accuracy:\",metrics.accuracy_score(target_valid, w_pred))"
   ]
  },
  {
   "cell_type": "code",
   "execution_count": 139,
   "id": "1660f270",
   "metadata": {
    "scrolled": true
   },
   "outputs": [],
   "source": [
    "dummy = DummyClassifier(strategy=\"most_frequent\")"
   ]
  },
  {
   "cell_type": "code",
   "execution_count": 140,
   "id": "4471408c",
   "metadata": {},
   "outputs": [],
   "source": [
    "clf3 = dummy.fit(features_train,target_train)\n",
    "dum_pred=clf3.predict(features_valid)"
   ]
  },
  {
   "cell_type": "code",
   "execution_count": 141,
   "id": "abf2c71a",
   "metadata": {},
   "outputs": [
    {
     "name": "stdout",
     "output_type": "stream",
     "text": [
      "Accuracy: 0.7002487562189055\n"
     ]
    }
   ],
   "source": [
    "print(\"Accuracy:\",metrics.accuracy_score(target_valid, dum_pred))"
   ]
  }
 ],
 "metadata": {
  "kernelspec": {
   "display_name": "Python 3 (ipykernel)",
   "language": "python",
   "name": "python3"
  },
  "language_info": {
   "codemirror_mode": {
    "name": "ipython",
    "version": 3
   },
   "file_extension": ".py",
   "mimetype": "text/x-python",
   "name": "python",
   "nbconvert_exporter": "python",
   "pygments_lexer": "ipython3",
   "version": "3.9.7"
  }
 },
 "nbformat": 4,
 "nbformat_minor": 5
}
